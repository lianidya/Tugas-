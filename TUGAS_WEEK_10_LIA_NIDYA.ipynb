{
  "nbformat": 4,
  "nbformat_minor": 0,
  "metadata": {
    "colab": {
      "provenance": [],
      "toc_visible": true,
      "authorship_tag": "ABX9TyMOJsBqF9ZtGQFrZbZqva3x",
      "include_colab_link": true
    },
    "kernelspec": {
      "name": "python3",
      "display_name": "Python 3"
    },
    "language_info": {
      "name": "python"
    }
  },
  "cells": [
    {
      "cell_type": "markdown",
      "metadata": {
        "id": "view-in-github",
        "colab_type": "text"
      },
      "source": [
        "<a href=\"https://colab.research.google.com/github/lianidya/Tugas-/blob/main/TUGAS_WEEK_10_LIA_NIDYA.ipynb\" target=\"_parent\"><img src=\"https://colab.research.google.com/assets/colab-badge.svg\" alt=\"Open In Colab\"/></a>"
      ]
    },
    {
      "cell_type": "markdown",
      "source": [
        "# **Weekly Exercise 1**"
      ],
      "metadata": {
        "id": "52lAK3enwepG"
      }
    },
    {
      "cell_type": "code",
      "source": [
        "def faktorial(n):\n",
        "    if n == 0:\n",
        "        return 1\n",
        "    else:\n",
        "        return n * faktorial(n-1)\n",
        "\n",
        "bilangan = int(input(\"Masukkan bilangan bulat non-negatif: \"))\n",
        "\n",
        "if bilangan < 0:\n",
        "    print(\"Silakan masukkan bilangan bulat non-negatif.\")\n",
        "else:\n",
        "    hasil = faktorial(bilangan)\n",
        "    print(\"Faktorial dari\", bilangan, \"adalah\", hasil)\n"
      ],
      "metadata": {
        "colab": {
          "base_uri": "https://localhost:8080/"
        },
        "id": "l4FN6cV-DkQo",
        "outputId": "ca55503a-2b09-41a8-936e-337e82836f91"
      },
      "execution_count": 7,
      "outputs": [
        {
          "output_type": "stream",
          "name": "stdout",
          "text": [
            "Masukkan bilangan bulat non-negatif: 3\n",
            "Faktorial dari 3 adalah 6\n"
          ]
        }
      ]
    },
    {
      "cell_type": "markdown",
      "source": [
        "# **Weekly Exercise 2**"
      ],
      "metadata": {
        "id": "YdnyfchXQCcJ"
      }
    },
    {
      "cell_type": "code",
      "source": [
        "def luas_lingkaran(radius):\n",
        "    return math.pi * radius ** 2\n",
        "\n",
        "def luas_persegi(sisi):\n",
        "    return sisi ** 2\n",
        "\n",
        "def luas_segitiga(base, tinggi):\n",
        "    return 0.5 * base * tinggi\n",
        "\n",
        "def main():\n",
        "    while True:\n",
        "        pilihan = input(\"Pilih (1: Lingkaran, 2: Persegi, 3: Segitiga, 4: Keluar): \")\n",
        "\n",
        "        if pilihan == '1':\n",
        "            r = float(input(\"Radius: \"))\n",
        "            print(f\"Luas: {luas_lingkaran(r):.2f}\")\n",
        "        elif pilihan == '2':\n",
        "            s = float(input(\"Sisi: \"))\n",
        "            print(f\"Luas: {luas_persegi(s):.2f}\")\n",
        "        elif pilihan == '3':\n",
        "            b = float(input(\"Alas: \"))\n",
        "            t = float(input(\"Tinggi: \"))\n",
        "            print(f\"Luas: {luas_segitiga(b, t):.2f}\")\n",
        "        elif pilihan == '4':\n",
        "            print(\"Program telah selesai.\")\n",
        "            break\n",
        "        else:\n",
        "            print(\"Pilihan tidak valid.\")\n",
        "\n",
        "if __name__ == \"__main__\":\n",
        "    main()\n"
      ],
      "metadata": {
        "colab": {
          "base_uri": "https://localhost:8080/"
        },
        "id": "cHS6LYdlhW-n",
        "outputId": "dfcfb27d-feee-4766-9b12-40addda94765"
      },
      "execution_count": null,
      "outputs": [
        {
          "output_type": "stream",
          "name": "stdout",
          "text": [
            "Pilih (1: Lingkaran, 2: Persegi, 3: Segitiga, 4: Keluar): 1\n",
            "Radius: 7\n",
            "Luas: 153.94\n",
            "Pilih (1: Lingkaran, 2: Persegi, 3: Segitiga, 4: Keluar): 2\n",
            "Sisi: 4\n",
            "Luas: 16.00\n",
            "Pilih (1: Lingkaran, 2: Persegi, 3: Segitiga, 4: Keluar): 3\n",
            "Alas: 3\n",
            "Tinggi: 7\n",
            "Luas: 10.50\n",
            "Pilih (1: Lingkaran, 2: Persegi, 3: Segitiga, 4: Keluar): 4\n",
            "Program telah selesai.\n"
          ]
        }
      ]
    }
  ]
}