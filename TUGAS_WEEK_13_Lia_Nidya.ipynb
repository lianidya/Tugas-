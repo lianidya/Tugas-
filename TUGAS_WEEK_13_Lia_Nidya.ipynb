{
  "nbformat": 4,
  "nbformat_minor": 0,
  "metadata": {
    "colab": {
      "provenance": [],
      "authorship_tag": "ABX9TyOgS4OB7XC5dXdAPPsqKb9r",
      "include_colab_link": true
    },
    "kernelspec": {
      "name": "python3",
      "display_name": "Python 3"
    },
    "language_info": {
      "name": "python"
    }
  },
  "cells": [
    {
      "cell_type": "markdown",
      "metadata": {
        "id": "view-in-github",
        "colab_type": "text"
      },
      "source": [
        "<a href=\"https://colab.research.google.com/github/lianidya/Tugas-/blob/main/TUGAS_WEEK_13_Lia_Nidya.ipynb\" target=\"_parent\"><img src=\"https://colab.research.google.com/assets/colab-badge.svg\" alt=\"Open In Colab\"/></a>"
      ]
    },
    {
      "cell_type": "markdown",
      "source": [
        "# **Weekly Exercise 1**"
      ],
      "metadata": {
        "id": "ilLXqRQpiycE"
      }
    },
    {
      "cell_type": "code",
      "source": [
        "class AlatTulis:\n",
        "    def __init__(self, nama, stok, harga_satuan):\n",
        "        self.nama = nama\n",
        "        self.stok = stok\n",
        "        self.harga_satuan = harga_satuan\n",
        "        self.harga_total = self.stok * self.harga_satuan\n",
        "\n",
        "    def set_nama(self, nama): self.nama = nama\n",
        "    def set_stok(self, stok):\n",
        "        self.stok = stok\n",
        "        self.harga_total = self.stok * self.harga_satuan\n",
        "    def set_harga_satuan(self, harga_satuan):\n",
        "        self.harga_satuan = harga_satuan\n",
        "        self.harga_total = self.stok * self.harga_satuan\n",
        "\n",
        "    def get_nama(self): return self.nama\n",
        "    def get_stok(self): return self.stok\n",
        "    def get_harga_satuan(self): return self.harga_satuan\n",
        "    def get_harga_total(self): return self.harga_total\n",
        "\n",
        "    def set_total_harga(self, total_harga): self.total_harga = total_harga\n",
        "    def get_total_harga(self): return self.total_harga\n",
        "\n",
        "\n",
        "bolpoint = AlatTulis(\"Bolpoint\", 10, 2000)\n",
        "pensil = AlatTulis(\"Pensil\", 10, 1000)\n",
        "penghapus = AlatTulis(\"Penghapus\", 10, 500)\n",
        "\n",
        "print(f\"Nama: {bolpoint.get_nama()}, Stok: {bolpoint.get_stok()}, Harga Satuan: {bolpoint.get_harga_satuan()}, Harga Total: {bolpoint.get_harga_total()}\")\n",
        "print(f\"Nama: {pensil.get_nama()}, Stok: {pensil.get_stok()}, Harga Satuan: {pensil.get_harga_satuan()}, Harga Total: {pensil.get_harga_total()}\")\n",
        "print(f\"Nama: {penghapus.get_nama()}, Stok: {penghapus.get_stok()}, Harga Satuan: {penghapus.get_harga_satuan()}, Harga Total: {penghapus.get_harga_total()}\")\n",
        "\n",
        "total_transaksi = bolpoint.get_harga_total() + pensil.get_harga_total() + penghapus.get_harga_total()\n",
        "print(f\"Total Harga Transaksi: Rp. {total_transaksi}\")\n"
      ],
      "metadata": {
        "colab": {
          "base_uri": "https://localhost:8080/"
        },
        "id": "w6SQSHlDkN_8",
        "outputId": "f751773d-7723-4618-f196-b14c1676699c"
      },
      "execution_count": 2,
      "outputs": [
        {
          "output_type": "stream",
          "name": "stdout",
          "text": [
            "Nama: Bolpoint, Stok: 10, Harga Satuan: 2000, Harga Total: 20000\n",
            "Nama: Pensil, Stok: 10, Harga Satuan: 1000, Harga Total: 10000\n",
            "Nama: Penghapus, Stok: 10, Harga Satuan: 500, Harga Total: 5000\n",
            "Total Harga Transaksi: Rp. 35000\n"
          ]
        }
      ]
    }
  ]
}