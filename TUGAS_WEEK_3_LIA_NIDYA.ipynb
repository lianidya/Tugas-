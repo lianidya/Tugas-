{
  "nbformat": 4,
  "nbformat_minor": 0,
  "metadata": {
    "colab": {
      "provenance": [],
      "authorship_tag": "ABX9TyPQUTItz8W1pcRo/QCol6jM",
      "include_colab_link": true
    },
    "kernelspec": {
      "name": "python3",
      "display_name": "Python 3"
    },
    "language_info": {
      "name": "python"
    }
  },
  "cells": [
    {
      "cell_type": "markdown",
      "metadata": {
        "id": "view-in-github",
        "colab_type": "text"
      },
      "source": [
        "<a href=\"https://colab.research.google.com/github/lianidya/Tugas-/blob/main/TUGAS_WEEK_3_LIA_NIDYA.ipynb\" target=\"_parent\"><img src=\"https://colab.research.google.com/assets/colab-badge.svg\" alt=\"Open In Colab\"/></a>"
      ]
    },
    {
      "cell_type": "markdown",
      "source": [
        "# **WEEKLY EXERCISE 1**"
      ],
      "metadata": {
        "id": "g71D37-JYdDP"
      }
    },
    {
      "cell_type": "code",
      "source": [
        "#1\n",
        "with open('sample_data/biodata_lia_nidya.txt', 'r') as file1 :\n",
        "    print(file1.read())"
      ],
      "metadata": {
        "id": "8vPW9bpCQ9wE",
        "colab": {
          "base_uri": "https://localhost:8080/"
        },
        "outputId": "229f2346-f0db-4749-b5eb-f95d0bc69024"
      },
      "execution_count": 4,
      "outputs": [
        {
          "output_type": "stream",
          "name": "stdout",
          "text": [
            "Nama : Aulia Nidya Kusuma Dewati\n",
            "Program Studi : S1 Teknologi Informasi\n",
            "NPM : 2440506077\n",
            "Alamat : Perum Depkes A8 no 7\n",
            "Hobi : Editing\n",
            "Email : nidyalia05@gmail.com\n"
          ]
        }
      ]
    },
    {
      "cell_type": "code",
      "source": [
        "#2\n",
        "with open(\"sample_data/biodata_lia_nidya.txt\",\"r\") as file1:\n",
        "  c = file1.readlines()\n",
        "  print(c[0])\n",
        "  print(c[1])\n",
        "  print(c[5])"
      ],
      "metadata": {
        "colab": {
          "base_uri": "https://localhost:8080/"
        },
        "id": "9F5qfk1dLKcX",
        "outputId": "47a848fe-a709-417e-be40-7c5ec56fa87e"
      },
      "execution_count": 17,
      "outputs": [
        {
          "output_type": "stream",
          "name": "stdout",
          "text": [
            "Nama : Aulia Nidya Kusuma Dewati\n",
            "\n",
            "Program Studi : S1 Teknologi Informasi\n",
            "\n",
            "Email : nidyalia05@gmail.com\n"
          ]
        }
      ]
    },
    {
      "cell_type": "code",
      "source": [
        "#3\n",
        "with open(\"sample_data/biodata_lia_nidya2.txt\",\"r\") as file2:\n",
        "  print(c[0])\n",
        "  print(c[2])\n",
        "  print(c[1])\n",
        "  print(c[3])\n"
      ],
      "metadata": {
        "colab": {
          "base_uri": "https://localhost:8080/"
        },
        "id": "37iqw3TThS4M",
        "outputId": "5b090b0e-f883-454d-f837-d49ae31aa00a"
      },
      "execution_count": 20,
      "outputs": [
        {
          "output_type": "stream",
          "name": "stdout",
          "text": [
            "Nama : Aulia Nidya Kusuma Dewati\n",
            "\n",
            "NPM : 2440506077\n",
            "\n",
            "Program Studi : S1 Teknologi Informasi\n",
            "\n",
            "Alamat : Perum Depkes A8 no 7\n",
            "\n"
          ]
        }
      ]
    },
    {
      "cell_type": "markdown",
      "source": [
        "# **WEEKLY EXERCISE 2**"
      ],
      "metadata": {
        "id": "AyH8JIwXLNXx"
      }
    },
    {
      "cell_type": "code",
      "source": [
        "print (\"Selamat datang di Toko Maju Jaya\")\n",
        "print (\"Senin, 4 September 2023       13.05\")\n",
        "print (\" \")\n",
        "\n",
        "print (\"DAFTAR BELANJA:\")\n",
        "item1 = \"Sabun\"\n",
        "item2 = \"Shampo\"\n",
        "item3 = \"Mie instant\"\n",
        "item4 = \"Detergen\"\n",
        "harga1 = 10000\n",
        "harga2 = 15000\n",
        "harga3 = 5000\n",
        "harga4 = 17500\n",
        "\n",
        "total = harga1 + harga2 + harga3 + harga4\n",
        "\n",
        "print(item1, '         = Rp ' + str(harga1))\n",
        "print(item2, '         = Rp ' + str(harga2))\n",
        "print(item3, '         = Rp ' + str(harga3))\n",
        "print(item4, '         = Rp ' + str(harga4))\n",
        "\n",
        "print(\" \")\n",
        "print(\"Total = Rp \" + str(total))\n",
        "\n",
        "with open('Kuitansi.txt', 'w') as writefile:\n",
        "        writefile.write(\"Selamat Datang di Toko Maju Jaya\\n\")\n",
        "        writefile.write(\" \\n\")\n",
        "        writefile.write(\"Kuitansi - 4 Septermber 2023\\n\")\n",
        "        writefile.write(\" \\n\")\n",
        "        writefile.write(item1 + \" = Rp \" + str (harga1) + \"\\n\")\n",
        "        writefile.write(item2 + \" = Rp \" + str (harga2) + \"\\n\")\n",
        "        writefile.write(item3 + \" = Rp \" + str (harga3) + \"\\n\")\n",
        "        writefile.write(item4 + \" = Rp \" + str (harga4) + \"\\n\")\n",
        "        writefile.write(\" \\n\")\n",
        "        writefile.write(\"Total Belanja =\" + str(total))"
      ],
      "metadata": {
        "colab": {
          "base_uri": "https://localhost:8080/"
        },
        "id": "4pSRjqFrMeYi",
        "outputId": "a5a0933c-45d4-422c-da33-381c2ae2e6a6"
      },
      "execution_count": 13,
      "outputs": [
        {
          "output_type": "stream",
          "name": "stdout",
          "text": [
            "Selamat datang di Toko Maju Jaya\n",
            "Senin, 4 September 2023       13.05\n",
            " \n",
            "DAFTAR BELANJA:\n",
            "Sabun          = Rp 10000\n",
            "Shampo          = Rp 15000\n",
            "Mie instant          = Rp 5000\n",
            "Detergen          = Rp 17500\n",
            " \n",
            "Total = Rp 47500\n"
          ]
        }
      ]
    }
  ]
}