{
  "nbformat": 4,
  "nbformat_minor": 0,
  "metadata": {
    "colab": {
      "provenance": [],
      "authorship_tag": "ABX9TyPiQrq/rT/fyf0+Nf2pHjVa",
      "include_colab_link": true
    },
    "kernelspec": {
      "name": "python3",
      "display_name": "Python 3"
    },
    "language_info": {
      "name": "python"
    }
  },
  "cells": [
    {
      "cell_type": "markdown",
      "metadata": {
        "id": "view-in-github",
        "colab_type": "text"
      },
      "source": [
        "<a href=\"https://colab.research.google.com/github/lianidya/Tugas-/blob/main/TUGAS_WEEK_9_LIA_NIDYA.ipynb\" target=\"_parent\"><img src=\"https://colab.research.google.com/assets/colab-badge.svg\" alt=\"Open In Colab\"/></a>"
      ]
    },
    {
      "cell_type": "markdown",
      "source": [
        "# **WEEKLY 2**"
      ],
      "metadata": {
        "id": "PIFtoOZtmaSG"
      }
    },
    {
      "cell_type": "code",
      "execution_count": 4,
      "metadata": {
        "colab": {
          "base_uri": "https://localhost:8080/"
        },
        "id": "yhTcBp8FjxSh",
        "outputId": "a69aa03f-97f7-41ec-d963-9fdbcbf2ab62"
      },
      "outputs": [
        {
          "output_type": "stream",
          "name": "stdout",
          "text": [
            "Nama: Aulia Nidya Kusuma Dewati\n",
            "Kelas: Rombel 4\n",
            "Tanggal_lahir: 11-7-2005\n",
            "No_hp: 089603302947\n",
            "Alamat: Perum Depkes A8 no.7\n",
            "Hobi:\n",
            "- Editing gambar\n",
            "- Mendengarkan musik\n"
          ]
        }
      ],
      "source": [
        "mahasiswa_list ={\n",
        "    \"nama\": \"Aulia Nidya Kusuma Dewati\",\n",
        "    \"kelas\": \"Rombel 4\",\n",
        "    \"tanggal_lahir\": \"11-7-2005\",\n",
        "    \"no_hp\": \"089603302947\",\n",
        "    \"alamat\": \"Perum Depkes A8 no.7\",\n",
        "    \"hobi\": [\"Editing gambar\", \"Mendengarkan musik\"]\n",
        "}\n",
        "for key, value in mahasiswa_list.items():\n",
        "  if key == \"hobi\":\n",
        "     print(f\"{key.capitalize()}:\")\n",
        "     for hobi in value:\n",
        "         print(f\"- {hobi}\")\n",
        "  else:\n",
        "      print(f\"{key.capitalize()}: {value}\")"
      ]
    }
  ]
}