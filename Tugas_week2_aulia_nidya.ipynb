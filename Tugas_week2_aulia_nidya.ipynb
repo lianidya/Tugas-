{
  "nbformat": 4,
  "nbformat_minor": 0,
  "metadata": {
    "colab": {
      "provenance": [],
      "toc_visible": true,
      "authorship_tag": "ABX9TyOI+LPTGNWQeaQCa+yLBT7H",
      "include_colab_link": true
    },
    "kernelspec": {
      "name": "python3",
      "display_name": "Python 3"
    },
    "language_info": {
      "name": "python"
    }
  },
  "cells": [
    {
      "cell_type": "markdown",
      "metadata": {
        "id": "view-in-github",
        "colab_type": "text"
      },
      "source": [
        "<a href=\"https://colab.research.google.com/github/lianidya/Tugas-/blob/main/Tugas_week2_aulia_nidya.ipynb\" target=\"_parent\"><img src=\"https://colab.research.google.com/assets/colab-badge.svg\" alt=\"Open In Colab\"/></a>"
      ]
    },
    {
      "cell_type": "markdown",
      "source": [
        "# **Weekly exercise 1**"
      ],
      "metadata": {
        "id": "cxrhCvEaZyIZ"
      }
    },
    {
      "cell_type": "code",
      "source": [
        "panjang = 20.5\n",
        "lebar = 25\n",
        "tinggi = 10\n",
        "\n",
        "keliling = 2 * (panjang + lebar)\n",
        "luas = panjang * lebar\n",
        "volume = panjang * lebar * tinggi\n",
        "\n",
        "print (\"Panjang =\", panjang)\n",
        "print (\"Lebar =\", lebar)\n",
        "print (\"Tinggi =\", tinggi)\n",
        "print (\"Keliling =\", keliling)\n",
        "print (\"Volume =\", volume)"
      ],
      "metadata": {
        "colab": {
          "base_uri": "https://localhost:8080/"
        },
        "id": "lrJbFcpDWgwV",
        "outputId": "a9129dbe-c5d0-4a22-c921-33453a58989e"
      },
      "execution_count": null,
      "outputs": [
        {
          "output_type": "stream",
          "name": "stdout",
          "text": [
            "Panjang = 20.5\n",
            "Lebar = 25\n",
            "Tinggi = 10\n",
            "Keliling = 91.0\n",
            "Volume = 5125.0\n"
          ]
        }
      ]
    },
    {
      "cell_type": "markdown",
      "source": [
        "Weekly Excercise 2"
      ],
      "metadata": {
        "id": "oJHSA29aPsor"
      }
    },
    {
      "cell_type": "code",
      "source": [
        "nilai_shafira = (85 + 75)/2\n",
        "print(\"Nilai Shafira\", nilai_shafira)"
      ],
      "metadata": {
        "id": "y-zhCTSlaSSf",
        "colab": {
          "base_uri": "https://localhost:8080/"
        },
        "outputId": "5c097716-f85b-4884-db84-bb3c13c09480"
      },
      "execution_count": null,
      "outputs": [
        {
          "output_type": "stream",
          "name": "stdout",
          "text": [
            "Nilai Shafira 80.0\n"
          ]
        }
      ]
    },
    {
      "cell_type": "code",
      "source": [
        "nilai_hanif = (75+90)\n",
        "nilai_andi = (70+75)\n",
        "jumlah_nilai_hanif_dan_andi = nilai_hanif + nilai_andi\n",
        "print (\"Total Jumlah nilai Hanif dan Andi adalah\", jumlah_nilai_hanif_dan_andi)"
      ],
      "metadata": {
        "colab": {
          "base_uri": "https://localhost:8080/"
        },
        "id": "k40PkPfFHgh1",
        "outputId": "8eb67917-4269-4b3e-8c42-9b10db330311"
      },
      "execution_count": null,
      "outputs": [
        {
          "output_type": "stream",
          "name": "stdout",
          "text": [
            "Total Jumlah nilai Hanif dan Andi adalah 310\n"
          ]
        }
      ]
    },
    {
      "cell_type": "code",
      "source": [
        "rata_rata_nilai_Widya_Dhanar_Hikma_dan_Nedia_masing_masing_mata_kuliah_kalkulus = (85+85+80+90)/4\n",
        "print(\"Rata rata nilai kalkulus dari 4 siswa\", rata_rata_nilai_Widya_Dhanar_Hikma_dan_Nedia_masing_masing_mata_kuliah_kalkulus)"
      ],
      "metadata": {
        "colab": {
          "base_uri": "https://localhost:8080/"
        },
        "id": "CogahjkNItgB",
        "outputId": "d70dedbb-89ee-4892-b786-2d63f7225fdc"
      },
      "execution_count": null,
      "outputs": [
        {
          "output_type": "stream",
          "name": "stdout",
          "text": [
            "Rata rata nilai kalkulus dari 4 siswa 85.0\n"
          ]
        }
      ]
    },
    {
      "cell_type": "code",
      "source": [
        "rata_rata_nilai_Widhya_Dhanar_Hikma_dan_Nedia_masing_masing_mata_kuliah_statiska = (85+85+75+80)/4\n",
        "print(\"Rata rata nilai statiska dari 4 siswa\", rata_rata_nilai_Widhya_Dhanar_Hikma_dan_Nedia_masing_masing_mata_kuliah_statiska)"
      ],
      "metadata": {
        "colab": {
          "base_uri": "https://localhost:8080/"
        },
        "id": "woCHy9TCMqou",
        "outputId": "31e218dd-c4e3-47ba-e24b-f812706218b9"
      },
      "execution_count": null,
      "outputs": [
        {
          "output_type": "stream",
          "name": "stdout",
          "text": [
            "Rata rata nilai statiska dari 4 siswa 81.25\n"
          ]
        }
      ]
    },
    {
      "cell_type": "code",
      "source": [
        "rata_rata_nilai_mata_kuliah_kalkulus_1_semua_siswa = (85+80+75+95+85+75+70+85+80)/9\n",
        "print (\"Rata rata nilai mata kuliah kalkulus 1 semua siswa\", rata_rata_nilai_mata_kuliah_kalkulus_1_semua_siswa)"
      ],
      "metadata": {
        "colab": {
          "base_uri": "https://localhost:8080/"
        },
        "id": "zhNbY9u2Koxn",
        "outputId": "e800d941-5323-4693-e0ad-9397b2466b36"
      },
      "execution_count": null,
      "outputs": [
        {
          "output_type": "stream",
          "name": "stdout",
          "text": [
            "Rata rata nilai mata kuliah kalkulus 1 semua siswa 81.11111111111111\n"
          ]
        }
      ]
    },
    {
      "cell_type": "code",
      "source": [
        "rata_rata_nilai_Metode_Statistika_semua_siswa = (75+90+80+80+85+90+75+85+75)/9\n",
        "print (\"Rata-rata nilai Metode Statiska 1\", rata_rata_nilai_Metode_Statistika_semua_siswa)"
      ],
      "metadata": {
        "colab": {
          "base_uri": "https://localhost:8080/"
        },
        "id": "DNxpNx6uSEsh",
        "outputId": "e334774b-4f66-4eb6-eb92-71f25e6db99f"
      },
      "execution_count": null,
      "outputs": [
        {
          "output_type": "stream",
          "name": "stdout",
          "text": [
            "Rata-rata nilai Metode Statiska 1 81.66666666666667\n"
          ]
        }
      ]
    },
    {
      "cell_type": "markdown",
      "source": [
        "**WEEKLY EXERCISE 3**"
      ],
      "metadata": {
        "id": "r3U0XRYoSUGo"
      }
    },
    {
      "cell_type": "code",
      "source": [
        "# @title Default title text\n",
        "Dwi_bekerja_total_dalam_jam_sehari = 8\n",
        "Setiap_jam_di_gaji = 30000\n",
        "Kerja_dalam_satu_bulan_Agustus = 31\n",
        "Dwi_tidak_masuk_kerja = 3\n",
        "\n",
        "#Gaji satu bulan Dwi pada bulan Agustus\n",
        "Dwi_bekerja = Kerja_dalam_satu_bulan_Agustus - Dwi_tidak_masuk_kerja\n",
        "print (\"Berarti Dwi masuk hanya\", Dwi_bekerja)\n",
        "\n",
        "Total_Dwi_bekerja = Dwi_bekerja * Dwi_bekerja_total_dalam_jam_sehari\n",
        "print (\"Berarti total jam dwi bekerja dalam satu bulan\",Total_Dwi_bekerja)\n",
        "\n",
        "Penghasilan_Dwi = Total_Dwi_bekerja * Setiap_jam_di_gaji\n",
        "print (\"Berarti penghasilan Dwi dalam satu bulan, bulan agustus adalah\", Penghasilan_Dwi)\n",
        "\n",
        "#Tunjangan\n",
        "Tunjangan_dwi_bekerja_setelah_bekerja_selama_10_tahun = 10/100 #atau 10%\n",
        "Total_gaji_dwi_pada_bulan_Agustus = 6720000\n",
        "\n",
        "Tunjangan_pekerjaan_dwi = Tunjangan_dwi_bekerja_setelah_bekerja_selama_10_tahun*Total_gaji_dwi_pada_bulan_Agustus\n",
        "print (\"Tunjangan Dwi setelah bekerja selama 10 tahun\",Tunjangan_pekerjaan_dwi )\n",
        "\n",
        "#Lembur\n",
        "Lembur_kerja_dwi = 5\n",
        "Gaji_dwi_pada_bulan_agustus = 6720000\n",
        "Upah_lembur = 10000\n",
        "\n",
        "Dwi_kerja_lembur = Upah_lembur*Lembur_kerja_dwi\n",
        "print (\"Total upah lembur Dwi \",Dwi_kerja_lembur)\n",
        "\n",
        "#Total gaji keseluruhannya\n",
        "Total_gaji_Dwi_semua_dalam_satu_bulan = Gaji_dwi_pada_bulan_agustus + Tunjangan_pekerjaan_dwi + Dwi_kerja_lembur\n",
        "print (\"Jumlah total semua gaji Dwi jika ditambah dengan tunjangan dan lembur\",Total_gaji_Dwi_semua_dalam_satu_bulan )"
      ],
      "metadata": {
        "colab": {
          "base_uri": "https://localhost:8080/"
        },
        "id": "6oRHiLBaR8Cj",
        "outputId": "4f67cf20-d529-4aea-8d01-bb04dbb0ee14"
      },
      "execution_count": null,
      "outputs": [
        {
          "output_type": "stream",
          "name": "stdout",
          "text": [
            "Berarti Dwi masuk hanya 28\n",
            "Berarti total jam dwi bekerja dalam satu bulan 224\n",
            "Berarti penghasilan Dwi dalam satu bulan, bulan agustus adalah 6720000\n",
            "Tunjangan Dwi setelah bekerja selama 10 tahun 672000.0\n",
            "Total upah lembur Dwi  50000\n",
            "Jumlah total semua gaji Dwi jika ditambah dengan tunjangan dan lembur 7442000.0\n"
          ]
        }
      ]
    },
    {
      "cell_type": "code",
      "source": [],
      "metadata": {
        "id": "_CKFQv7RdIUV"
      },
      "execution_count": null,
      "outputs": []
    }
  ]
}