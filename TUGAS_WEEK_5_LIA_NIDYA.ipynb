{
  "nbformat": 4,
  "nbformat_minor": 0,
  "metadata": {
    "colab": {
      "provenance": [],
      "authorship_tag": "ABX9TyNVnSfnopSGBsiBc61vhANE",
      "include_colab_link": true
    },
    "kernelspec": {
      "name": "python3",
      "display_name": "Python 3"
    },
    "language_info": {
      "name": "python"
    }
  },
  "cells": [
    {
      "cell_type": "markdown",
      "metadata": {
        "id": "view-in-github",
        "colab_type": "text"
      },
      "source": [
        "<a href=\"https://colab.research.google.com/github/lianidya/Tugas-/blob/main/TUGAS_WEEK_5_LIA_NIDYA.ipynb\" target=\"_parent\"><img src=\"https://colab.research.google.com/assets/colab-badge.svg\" alt=\"Open In Colab\"/></a>"
      ]
    },
    {
      "cell_type": "markdown",
      "source": [
        "# **Weekly Exercise** **1**"
      ],
      "metadata": {
        "id": "lQPWyV0XIqr6"
      }
    },
    {
      "cell_type": "code",
      "execution_count": null,
      "metadata": {
        "colab": {
          "base_uri": "https://localhost:8080/"
        },
        "id": "pgnAbDE2DVoq",
        "outputId": "fafdf428-431a-486b-8b54-e19598848428"
      },
      "outputs": [
        {
          "output_type": "stream",
          "name": "stdout",
          "text": [
            "masukan tahun: 2023\n",
            "2023 bukan tahun kabisat\n"
          ]
        }
      ],
      "source": [
        "tahun = int(input(\"masukan tahun: \"))\n",
        "habis_dibagi_400 = tahun % 400 == 0\n",
        "habis_dibagi_100 = tahun % 100 == 0\n",
        "habis_dibagi_4 = tahun % 4 == 0\n",
        "\n",
        "if habis_dibagi_400:\n",
        "  print(f'{tahun} adalah tahun kabisat')\n",
        "elif habis_dibagi_4 and not habis_dibagi_100:\n",
        "  print(f'{tahun} adalah tahun kabisat')\n",
        "else:\n",
        "  print(f'{tahun} bukan tahun kabisat')"
      ]
    },
    {
      "cell_type": "code",
      "source": [
        "tahun = int(input(\"masukan tahun: \"))\n",
        "habis_dibagi_400 = tahun % 400 == 0\n",
        "habis_dibagi_100 = tahun % 100 == 0\n",
        "habis_dibagi_4 = tahun % 4 == 0\n",
        "\n",
        "if habis_dibagi_400:\n",
        "  print(f'{tahun} adalah tahun kabisat')\n",
        "elif habis_dibagi_4 and not habis_dibagi_100:\n",
        "  print(f'{tahun} adalah tahun kabisat')\n",
        "else:\n",
        "  print(f'{tahun} bukan tahun kabisat')"
      ],
      "metadata": {
        "colab": {
          "base_uri": "https://localhost:8080/"
        },
        "id": "1lIY54bw_NP_",
        "outputId": "612f5a75-0025-4411-d508-9cb484569e0f"
      },
      "execution_count": 14,
      "outputs": [
        {
          "output_type": "stream",
          "name": "stdout",
          "text": [
            "masukan tahun: 2024\n",
            "2024 adalah tahun kabisat\n"
          ]
        }
      ]
    },
    {
      "cell_type": "markdown",
      "source": [
        "# **Weekly Exercise** **2**"
      ],
      "metadata": {
        "id": "rldgn-LDGSjc"
      }
    },
    {
      "cell_type": "code",
      "source": [
        "angka1 = input(\"Silakan masukkan angka pertama: \")\n",
        "angka2 = input(\"Silakan masukkan angka kedua: \")\n",
        "angka3 = input(\"Silakan masukkan angka ketiga: \")\n",
        "\n",
        "try:\n",
        "    angka1 = int(angka1)\n",
        "    angka2 = int(angka2)\n",
        "    angka3 = int(angka3)\n",
        "\n",
        "    if angka1 >= angka2 and angka1 >= angka3:\n",
        "        terbesar = angka1\n",
        "    elif angka2 >= angka1 and angka2 >= angka3:\n",
        "        terbesar = angka2\n",
        "    else:\n",
        "        terbesar = angka3\n",
        "\n",
        "    print(f\"Angka pertama: {angka1}\")\n",
        "    print(f\"Angka kedua: {angka2}\")\n",
        "    print(f\"Angka ketiga: {angka3}\")\n",
        "    print(f\"Angka terbesar antara ketiga angka tersebut adalah: {terbesar}\")\n",
        "except ValueError:\n",
        "    print(\"Int yang dimasukkan bukan merupakan angka yang valid.\")"
      ],
      "metadata": {
        "colab": {
          "base_uri": "https://localhost:8080/"
        },
        "id": "-8_sulGzS5bU",
        "outputId": "84b37390-aab6-4a3c-850a-42bb00a69dee"
      },
      "execution_count": 26,
      "outputs": [
        {
          "output_type": "stream",
          "name": "stdout",
          "text": [
            "Silakan masukkan angka pertama: 40\n",
            "Silakan masukkan angka kedua: 10\n",
            "Silakan masukkan angka ketiga: 80\n",
            "Angka pertama: 40\n",
            "Angka kedua: 10\n",
            "Angka ketiga: 80\n",
            "Angka terbesar antara ketiga angka tersebut adalah: 80\n"
          ]
        }
      ]
    },
    {
      "cell_type": "markdown",
      "source": [
        "# **Weekly Exercise 3**"
      ],
      "metadata": {
        "id": "c3anrZ_HGkyV"
      }
    },
    {
      "cell_type": "code",
      "source": [
        "konsumer = input(\"Apakah anda sebuah member (masukan 'iya' atau 'tidak')\").lower()\n",
        "totalbelanja = (float(input(\"Masukan total belanja : \" )))\n",
        "diskon = 0\n",
        "if totalbelanja > 200000:\n",
        "  diskon += 4 / 100\n",
        "elif totalbelanja > 100000:\n",
        "  diskon += 3 / 100\n",
        "if konsumer == \"iya\":\n",
        "  diskon += 2 / 100\n",
        "totaldiskon = totalbelanja * diskon\n",
        "totalbayar = totalbelanja - totaldiskon\n",
        "print(f\"Total yang harus dibayar adalah Rp{totalbayar}\")"
      ],
      "metadata": {
        "id": "SpHea0ItGwTr",
        "colab": {
          "base_uri": "https://localhost:8080/"
        },
        "outputId": "bef41dc4-30e9-4384-dc4f-e76529482068"
      },
      "execution_count": 27,
      "outputs": [
        {
          "output_type": "stream",
          "name": "stdout",
          "text": [
            "Apakah anda sebuah member (masukan 'iya' atau 'tidak')225000\n",
            "Masukan total belanja : 100000\n",
            "Total yang harus dibayar adalah Rp100000.0\n"
          ]
        }
      ]
    },
    {
      "cell_type": "markdown",
      "source": [
        "# **Weekly Exercise 4**"
      ],
      "metadata": {
        "id": "I2HdBKseGrpp"
      }
    },
    {
      "cell_type": "code",
      "source": [
        "username = input(\"Masukan username : \")\n",
        "email = input(\"Masukan email : \")\n",
        "password = input(\"Masukan password : \")\n",
        "if username == \"\":\n",
        "  print(\"Email harus terdapat @\")\n",
        "elif len(password) <= 8:\n",
        "  print(\"Password harus lebih dari 8 karakter\")\n",
        "else:\n",
        "  print(\"Akun user sudah berhasil dibuat!\")"
      ],
      "metadata": {
        "id": "v7lWqncdGus4",
        "colab": {
          "base_uri": "https://localhost:8080/"
        },
        "outputId": "6290ae05-86a3-4b85-b9eb-e9d7d3b51d58"
      },
      "execution_count": null,
      "outputs": [
        {
          "output_type": "stream",
          "name": "stdout",
          "text": [
            "Masukan username : star\n",
            "Masukan email : starsky@gmail.com\n",
            "Masukan password : starbluesky\n",
            "Akun user sudah berhasil dibuat!\n"
          ]
        }
      ]
    }
  ]
}