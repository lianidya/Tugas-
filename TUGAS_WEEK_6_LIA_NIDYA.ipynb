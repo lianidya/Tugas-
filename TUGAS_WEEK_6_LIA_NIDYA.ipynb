{
  "nbformat": 4,
  "nbformat_minor": 0,
  "metadata": {
    "colab": {
      "provenance": [],
      "authorship_tag": "ABX9TyNTZFabUoMf2CP+K5V5TUk3",
      "include_colab_link": true
    },
    "kernelspec": {
      "name": "python3",
      "display_name": "Python 3"
    },
    "language_info": {
      "name": "python"
    }
  },
  "cells": [
    {
      "cell_type": "markdown",
      "metadata": {
        "id": "view-in-github",
        "colab_type": "text"
      },
      "source": [
        "<a href=\"https://colab.research.google.com/github/lianidya/Tugas-/blob/main/TUGAS_WEEK_6_LIA_NIDYA.ipynb\" target=\"_parent\"><img src=\"https://colab.research.google.com/assets/colab-badge.svg\" alt=\"Open In Colab\"/></a>"
      ]
    },
    {
      "cell_type": "markdown",
      "source": [
        "# **Weekly Exercise 1**"
      ],
      "metadata": {
        "id": "nBpPfEefEVQQ"
      }
    },
    {
      "cell_type": "code",
      "source": [
        "n = int(input(\"Masukkan jumlah baris: \"))\n",
        "\n",
        "for i in range(n):\n",
        "    for j in range(n-i-1):\n",
        "        print(\" \", end=\"\")\n",
        "    for k in range(i+1):\n",
        "        print(\"* \", end=\"\")\n",
        "    print()"
      ],
      "metadata": {
        "colab": {
          "base_uri": "https://localhost:8080/"
        },
        "id": "W-4b3zGSEEVo",
        "outputId": "21f5197a-1cbc-4b12-c68c-22328cef9be6"
      },
      "execution_count": null,
      "outputs": [
        {
          "output_type": "stream",
          "name": "stdout",
          "text": [
            "Masukkan jumlah baris: 6\n",
            "     * \n",
            "    * * \n",
            "   * * * \n",
            "  * * * * \n",
            " * * * * * \n",
            "* * * * * * \n"
          ]
        }
      ]
    },
    {
      "cell_type": "markdown",
      "source": [
        "# **Weekly Exercise 2**"
      ],
      "metadata": {
        "id": "gnyxaVmNElHv"
      }
    },
    {
      "cell_type": "code",
      "source": [
        "user = int(input(\"Masukkan angka: \"))\n",
        "\n",
        "for i in range(user):\n",
        "    print(\" \" * (user-i-1), end=\"\")\n",
        "    pascal = 1\n",
        "    for j in range(i+1):\n",
        "     print(pascal, end=\"\")\n",
        "     pascal = pascal * (i-j) // (j+1)\n",
        "     if j != i:\n",
        "        print(\" \", end=\"\")\n",
        "    print()"
      ],
      "metadata": {
        "colab": {
          "base_uri": "https://localhost:8080/"
        },
        "id": "p9KnIndbzXCn",
        "outputId": "bdaebc9f-6f5a-4d7f-d0a9-7341e02c5d03"
      },
      "execution_count": 1,
      "outputs": [
        {
          "output_type": "stream",
          "name": "stdout",
          "text": [
            "Masukkan angka: 5\n",
            "    1\n",
            "   1 1\n",
            "  1 2 1\n",
            " 1 3 3 1\n",
            "1 4 6 4 1\n"
          ]
        }
      ]
    },
    {
      "cell_type": "markdown",
      "source": [
        "# **Weekly Exercise 3**"
      ],
      "metadata": {
        "id": "sAvs9anCFWE2"
      }
    },
    {
      "cell_type": "code",
      "source": [
        "user = int(input(\"Masukkan angka: \"))\n",
        "\n",
        "for i in range(user):\n",
        "    print(\" \" * (user-i-1), end=\"\")\n",
        "    pascal = 1\n",
        "    jumlah = 0\n",
        "    for j in range(i+1):\n",
        "     print(pascal, end=\"\")\n",
        "     jumlah += pascal\n",
        "     pascal = pascal * (i-j) // (j+1)\n",
        "     if j != i:\n",
        "        print(\" \", end=\"\")\n",
        "    print(f\" jumlah: {jumlah}\")\n"
      ],
      "metadata": {
        "colab": {
          "base_uri": "https://localhost:8080/"
        },
        "id": "jufYpf7LXgmv",
        "outputId": "752eed63-90d9-4ecc-ecae-a246f5163b7e"
      },
      "execution_count": 1,
      "outputs": [
        {
          "output_type": "stream",
          "name": "stdout",
          "text": [
            "Masukkan angka: 5\n",
            "    1 jumlah: 1\n",
            "   1 1 jumlah: 2\n",
            "  1 2 1 jumlah: 4\n",
            " 1 3 3 1 jumlah: 8\n",
            "1 4 6 4 1 jumlah: 16\n"
          ]
        }
      ]
    }
  ]
}