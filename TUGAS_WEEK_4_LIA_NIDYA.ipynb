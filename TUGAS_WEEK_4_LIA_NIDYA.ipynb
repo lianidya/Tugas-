{
  "nbformat": 4,
  "nbformat_minor": 0,
  "metadata": {
    "colab": {
      "provenance": [],
      "authorship_tag": "ABX9TyMEoQW9VjUKjKn2aFJEoH6y",
      "include_colab_link": true
    },
    "kernelspec": {
      "name": "python3",
      "display_name": "Python 3"
    },
    "language_info": {
      "name": "python"
    }
  },
  "cells": [
    {
      "cell_type": "markdown",
      "metadata": {
        "id": "view-in-github",
        "colab_type": "text"
      },
      "source": [
        "<a href=\"https://colab.research.google.com/github/lianidya/Tugas-/blob/main/TUGAS_WEEK_4_LIA_NIDYA.ipynb\" target=\"_parent\"><img src=\"https://colab.research.google.com/assets/colab-badge.svg\" alt=\"Open In Colab\"/></a>"
      ]
    },
    {
      "cell_type": "markdown",
      "source": [
        "# **Weekly Exercise 1**"
      ],
      "metadata": {
        "id": "9zt-bXirOJHc"
      }
    },
    {
      "cell_type": "code",
      "source": [
        "# cek_umur.py\n",
        "umur = int(input(\"Umur kamu: \"))\n",
        "if umur >= 17:\n",
        "    print(\"Kamu boleh membuat SIM\")\n",
        "else:\n",
        "    print(\"Kamu belum boleh membuat SIM\")"
      ],
      "metadata": {
        "colab": {
          "base_uri": "https://localhost:8080/"
        },
        "id": "KczpMU2INfVa",
        "outputId": "f32ca6b5-f314-43e0-b63c-4ed81132ba03"
      },
      "execution_count": null,
      "outputs": [
        {
          "output_type": "stream",
          "name": "stdout",
          "text": [
            "Umur kamu: 19\n",
            "Kamu boleh membuat SIM\n"
          ]
        }
      ]
    },
    {
      "cell_type": "markdown",
      "source": [
        "# **Weekly Exercise 2**"
      ],
      "metadata": {
        "id": "xZ-BAzzZOSu0"
      }
    },
    {
      "cell_type": "code",
      "source": [
        "nilai = int(input(\"nilai=\"))\n",
        "if nilai >= 90:\n",
        "  print(\"grade A\")\n",
        "elif nilai >= 80:\n",
        "  print(\"grade B+\")\n",
        "elif nilai >= 70:\n",
        "  print(\"grade B\")\n",
        "elif nilai >= 60:\n",
        "  print(\"grade C+\")\n",
        "elif nilai >= 50:\n",
        "  print(\"grade C\")\n",
        "elif nilai >= 40:\n",
        "  print(\"grade D\")\n",
        "else :\n",
        "  print(\"grade E\")\n"
      ],
      "metadata": {
        "id": "cmNjVBFuOYED",
        "colab": {
          "base_uri": "https://localhost:8080/"
        },
        "outputId": "e5cb4ac1-c24e-42da-8c7d-9cf275cc99d6"
      },
      "execution_count": null,
      "outputs": [
        {
          "output_type": "stream",
          "name": "stdout",
          "text": [
            "nilai=66\n",
            "grade C+\n"
          ]
        }
      ]
    },
    {
      "cell_type": "markdown",
      "source": [
        "# **Weekly Exercise 3**"
      ],
      "metadata": {
        "id": "K7Ixl_vKMqWN"
      }
    },
    {
      "cell_type": "code",
      "source": [
        "nilai = float(input(\"nilai=\"))\n",
        "if 80.00 <= nilai <= 100:\n",
        "  print(\"anda mendapatkan grade A\")\n",
        "elif 77.50 <= nilai <= 79.99:\n",
        "  print(\"anda mendapatkan grade A-\")\n",
        "elif 75.00 <= nilai <= 77.49:\n",
        "  print(\"anda mendapatkan grade A/B\")\n",
        "elif 72.50 <= nilai <= 74.99:\n",
        "  print(\"anda mendapatkan grade B+\")\n",
        "elif 70.00 <= nilai <= 72.49:\n",
        "  print(\"anda mendapatkan grade B\")\n",
        "elif 67.50 <= nilai <= 69.99:\n",
        "  print(\"anda mendapatkan grade B-\")\n",
        "elif 65.50 <= nilai <= 64.99:\n",
        "  print(\"anda mendapatkan grade B/C\")\n",
        "elif 60.00 <= nilai <= 62.49:\n",
        "  print(\"anda mendapatkan grade C+\")\n",
        "elif 55.00 <= nilai <= 54.99:\n",
        "  print(\"anda mendapatkan grade C-\")\n",
        "elif 50.00 <= nilai <= 54.99:\n",
        "  print(\"anda mendapatkan grade C/D\")\n",
        "elif 45.00 <= nilai <= 49.99:\n",
        "  print(\"anda mendapatkan grade D+\")\n",
        "elif 40.00 <= nilai <= 44.99:\n",
        "  print(\"anda mendapatkan grade D\")\n",
        "else :\n",
        "  print(\"anda mendapatkan grade E\")"
      ],
      "metadata": {
        "colab": {
          "base_uri": "https://localhost:8080/"
        },
        "id": "Ei29uL2uMxQH",
        "outputId": "a36f4982-b2d4-43a9-8724-439bc78830c3"
      },
      "execution_count": null,
      "outputs": [
        {
          "output_type": "stream",
          "name": "stdout",
          "text": [
            "nilai=73\n",
            "anda mendapatkan grade B+\n"
          ]
        }
      ]
    }
  ]
}