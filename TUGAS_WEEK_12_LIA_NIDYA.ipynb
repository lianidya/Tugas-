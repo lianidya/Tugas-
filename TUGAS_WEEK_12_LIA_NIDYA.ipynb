{
  "nbformat": 4,
  "nbformat_minor": 0,
  "metadata": {
    "colab": {
      "provenance": [],
      "authorship_tag": "ABX9TyOoHObMQElPTcOWYDERm9/i",
      "include_colab_link": true
    },
    "kernelspec": {
      "name": "python3",
      "display_name": "Python 3"
    },
    "language_info": {
      "name": "python"
    }
  },
  "cells": [
    {
      "cell_type": "markdown",
      "metadata": {
        "id": "view-in-github",
        "colab_type": "text"
      },
      "source": [
        "<a href=\"https://colab.research.google.com/github/lianidya/Tugas-/blob/main/TUGAS_WEEK_12_LIA_NIDYA.ipynb\" target=\"_parent\"><img src=\"https://colab.research.google.com/assets/colab-badge.svg\" alt=\"Open In Colab\"/></a>"
      ]
    },
    {
      "cell_type": "markdown",
      "source": [
        "# **Weekly Exercise 1**"
      ],
      "metadata": {
        "id": "hxSOinliVyAw"
      }
    },
    {
      "cell_type": "code",
      "source": [
        "import math\n",
        "\n",
        "def hitung_luas(bangun):\n",
        "    try:\n",
        "        if bangun == \"lingkaran\":\n",
        "            jari_jari = int(input(\"Masukkan jari-jari lingkaran: \").strip() or \"0\")\n",
        "            print(f\"Luas lingkaran: {math.pi * jari_jari**2:.2f}\")\n",
        "        elif bangun == \"segitiga\":\n",
        "            alas = int(input(\"Masukkan alas segitiga: \").strip() or \"0\")\n",
        "            tinggi = int(input(\"Masukkan tinggi segitiga: \").strip() or \"0\")\n",
        "            print(f\"Luas segitiga: {0.5 * alas * tinggi}\")\n",
        "    except ValueError:\n",
        "        print(\"Error: Input harus berupa angka dan tidak boleh kosong.\")\n",
        "\n",
        "while True:\n",
        "    pilihan = input(\"\\nPilih perhitungan (1: Lingkaran, 2: Segitiga, 3: Keluar): \").strip()\n",
        "    if pilihan == \"1\":\n",
        "        hitung_luas(\"lingkaran\")\n",
        "    elif pilihan == \"2\":\n",
        "        hitung_luas(\"segitiga\")\n",
        "    elif pilihan == \"3\":\n",
        "        print(\"Terima kasih telah menggunakan program!\")\n",
        "        break\n",
        "    else:\n",
        "        print(\"Pilihan tidak valid. Silakan coba lagi.\")\n"
      ],
      "metadata": {
        "colab": {
          "base_uri": "https://localhost:8080/"
        },
        "id": "KOFJcWPcV5OI",
        "outputId": "6539ecab-e5fc-48f2-e884-c9415a365308"
      },
      "execution_count": 2,
      "outputs": [
        {
          "output_type": "stream",
          "name": "stdout",
          "text": [
            "\n",
            "Pilih perhitungan (1: Lingkaran, 2: Segitiga, 3: Keluar): 1\n",
            "Masukkan jari-jari lingkaran: 34\n",
            "Luas lingkaran: 3631.68\n",
            "\n",
            "Pilih perhitungan (1: Lingkaran, 2: Segitiga, 3: Keluar): 2\n",
            "Masukkan alas segitiga: tes\n",
            "Error: Input harus berupa angka dan tidak boleh kosong.\n",
            "\n",
            "Pilih perhitungan (1: Lingkaran, 2: Segitiga, 3: Keluar): \n",
            "Pilihan tidak valid. Silakan coba lagi.\n",
            "\n",
            "Pilih perhitungan (1: Lingkaran, 2: Segitiga, 3: Keluar): 3\n",
            "Terima kasih telah menggunakan program!\n"
          ]
        }
      ]
    },
    {
      "cell_type": "markdown",
      "source": [
        "# **Weekly Exercise 2**"
      ],
      "metadata": {
        "id": "NCiEKWGchZuc"
      }
    },
    {
      "cell_type": "code",
      "source": [
        "try:\n",
        "  npm = input(\"Masukan NPM anda: \")\n",
        "  jumlah_genap = 0\n",
        "  jumlah_ganjil = 0\n",
        "\n",
        "  for angka in npm:\n",
        "    digit = int (angka)\n",
        "\n",
        "    if digit % 2 == 0:\n",
        "        jumlah_genap += 1\n",
        "    else:\n",
        "        jumlah_ganjil += 1\n",
        "  print(\"Jumlah bilangan genap:\", jumlah_genap)\n",
        "  print(\"Jumlah bilangan ganjil:\", jumlah_ganjil)\n",
        "except:\n",
        "  print(\"error\")"
      ],
      "metadata": {
        "colab": {
          "base_uri": "https://localhost:8080/"
        },
        "id": "432-QQ8slEiT",
        "outputId": "40955e3d-b202-4dde-ed12-b5d22fa95e7c"
      },
      "execution_count": null,
      "outputs": [
        {
          "output_type": "stream",
          "name": "stdout",
          "text": [
            "Masukan NPM anda: Tes\n",
            "error\n"
          ]
        }
      ]
    }
  ]
}